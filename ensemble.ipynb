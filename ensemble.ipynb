{
 "cells": [
  {
   "cell_type": "code",
   "execution_count": 3,
   "source": [
    "from typing import *\n",
    "from pathlib import Path\n",
    "import numpy as np\n",
    "import lightgbm as lgb\n",
    "# import optuna.integration.lightgbm as lgb2\n",
    "import pandas as pd\n",
    "pd.set_option('display.max_columns', 1000)\n",
    "pd.set_option('display.max_rows', 1000)\n",
    "\n",
    "root = Path(\"/data/natsuki/dataset_atmaCup11/checkpoints\")\n",
    "names = [\"atma11simple_j4e5nofreeze\", \"atma11sortingdate_j4e5nofreeze\", \"atma11onehot_j4e5nofreeze\", \"atma11materialstechniques_j4e5nofreeze\"]\n",
    "epoch = 5\n"
   ],
   "outputs": [],
   "metadata": {}
  },
  {
   "cell_type": "code",
   "execution_count": 11,
   "source": [
    "for name in names:\n",
    "    for fold in range(3):\n",
    "        test_features_df = pd.read_csv(root/f\"{name}_3fold{fold}\"/f\"epoch{epoch}_3fold{fold}_test_features.csv\")\n",
    "        break\n",
    "    break"
   ],
   "outputs": [],
   "metadata": {}
  },
  {
   "cell_type": "code",
   "execution_count": 9,
   "source": [
    "df"
   ],
   "outputs": [
    {
     "output_type": "execute_result",
     "data": {
      "text/plain": [
       "                 object_id   atma11simple_j4e5nofreeze_3fold0_e5_0\n",
       "0     007c091616828798b5e1                                1.534457\n",
       "1     007f5e3620b458d77212                                0.455873\n",
       "2     00db4ef4b89904547a77                                0.994816\n",
       "3     0108b38da16211245fcd                                1.892395\n",
       "4     0110115b8b6036d9ab3c                                1.764503\n",
       "...                    ...                                     ...\n",
       "1308  ff327cfcf624d261e898                                0.224658\n",
       "1309  ff7e4ea4683cedabb534                                1.619340\n",
       "1310  ff9ed0536b98b67cee64                                2.439260\n",
       "1311  ffd794b7b311b7b7fd92                                2.901760\n",
       "1312  ffe77db10be3400bed53                                2.200635\n",
       "\n",
       "[1313 rows x 2 columns]"
      ],
      "text/html": [
       "<div>\n",
       "<style scoped>\n",
       "    .dataframe tbody tr th:only-of-type {\n",
       "        vertical-align: middle;\n",
       "    }\n",
       "\n",
       "    .dataframe tbody tr th {\n",
       "        vertical-align: top;\n",
       "    }\n",
       "\n",
       "    .dataframe thead th {\n",
       "        text-align: right;\n",
       "    }\n",
       "</style>\n",
       "<table border=\"1\" class=\"dataframe\">\n",
       "  <thead>\n",
       "    <tr style=\"text-align: right;\">\n",
       "      <th></th>\n",
       "      <th>object_id</th>\n",
       "      <th>atma11simple_j4e5nofreeze_3fold0_e5_0</th>\n",
       "    </tr>\n",
       "  </thead>\n",
       "  <tbody>\n",
       "    <tr>\n",
       "      <th>0</th>\n",
       "      <td>007c091616828798b5e1</td>\n",
       "      <td>1.534457</td>\n",
       "    </tr>\n",
       "    <tr>\n",
       "      <th>1</th>\n",
       "      <td>007f5e3620b458d77212</td>\n",
       "      <td>0.455873</td>\n",
       "    </tr>\n",
       "    <tr>\n",
       "      <th>2</th>\n",
       "      <td>00db4ef4b89904547a77</td>\n",
       "      <td>0.994816</td>\n",
       "    </tr>\n",
       "    <tr>\n",
       "      <th>3</th>\n",
       "      <td>0108b38da16211245fcd</td>\n",
       "      <td>1.892395</td>\n",
       "    </tr>\n",
       "    <tr>\n",
       "      <th>4</th>\n",
       "      <td>0110115b8b6036d9ab3c</td>\n",
       "      <td>1.764503</td>\n",
       "    </tr>\n",
       "    <tr>\n",
       "      <th>...</th>\n",
       "      <td>...</td>\n",
       "      <td>...</td>\n",
       "    </tr>\n",
       "    <tr>\n",
       "      <th>1308</th>\n",
       "      <td>ff327cfcf624d261e898</td>\n",
       "      <td>0.224658</td>\n",
       "    </tr>\n",
       "    <tr>\n",
       "      <th>1309</th>\n",
       "      <td>ff7e4ea4683cedabb534</td>\n",
       "      <td>1.619340</td>\n",
       "    </tr>\n",
       "    <tr>\n",
       "      <th>1310</th>\n",
       "      <td>ff9ed0536b98b67cee64</td>\n",
       "      <td>2.439260</td>\n",
       "    </tr>\n",
       "    <tr>\n",
       "      <th>1311</th>\n",
       "      <td>ffd794b7b311b7b7fd92</td>\n",
       "      <td>2.901760</td>\n",
       "    </tr>\n",
       "    <tr>\n",
       "      <th>1312</th>\n",
       "      <td>ffe77db10be3400bed53</td>\n",
       "      <td>2.200635</td>\n",
       "    </tr>\n",
       "  </tbody>\n",
       "</table>\n",
       "<p>1313 rows × 2 columns</p>\n",
       "</div>"
      ]
     },
     "metadata": {},
     "execution_count": 9
    }
   ],
   "metadata": {}
  },
  {
   "cell_type": "code",
   "execution_count": null,
   "source": [],
   "outputs": [],
   "metadata": {}
  }
 ],
 "metadata": {
  "orig_nbformat": 4,
  "language_info": {
   "name": "python",
   "version": "3.8.10",
   "mimetype": "text/x-python",
   "codemirror_mode": {
    "name": "ipython",
    "version": 3
   },
   "pygments_lexer": "ipython3",
   "nbconvert_exporter": "python",
   "file_extension": ".py"
  },
  "kernelspec": {
   "name": "python3",
   "display_name": "Python 3.8.10 64-bit ('atmaCup11': conda)"
  },
  "interpreter": {
   "hash": "a36cd820be0eaca38c52ebedd48039812cfccf3c99d2a07a6b762e4f499bf7df"
  }
 },
 "nbformat": 4,
 "nbformat_minor": 2
}