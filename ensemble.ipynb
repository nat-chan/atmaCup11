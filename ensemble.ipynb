{
 "cells": [
  {
   "cell_type": "code",
   "execution_count": 38,
   "source": [
    "from typing import *\n",
    "from pathlib import Path\n",
    "import numpy as np\n",
    "import pandas as pd\n",
    "import lightgbm as lgb\n",
    "import pickle\n",
    "\n",
    "root = Path(\"/data/natsuki/dataset_atmaCup11\")\n",
    "\"atma11sortingdate_j4nofreeze\"\n",
    "names = [\"atma11simple_j4e5nofreeze\", \"atma11sortingdate_j4e5nofreeze\", \"atma11onehot_j4e5nofreeze\", \"atma11materialstechniques_j4e5nofreeze\"]\n",
    "epoch = 10\n",
    "def aug(arr: List[np.ndarray]) -> np.ndarray:\n",
    "    return np.mean(arr, axis=0).flatten()"
   ],
   "outputs": [],
   "metadata": {}
  },
  {
   "cell_type": "code",
   "execution_count": 35,
   "source": [
    "for suffix in [\"3fold0\", \"3fold1\", \"3fold2\"]:\n",
    "    cv_list = list()\n",
    "    for name in names:\n",
    "        train_df = pd.read_csv(root/f\"{suffix}_train.csv\").set_index(\"object_id\", drop=False)\n",
    "        test_df = pd.read_csv(root/f\"{suffix}_test.csv\").set_index(\"object_id\", drop=False)\n",
    "        with open(root/\"checkpoints\"/f\"{name}_{suffix}\"/f\"epoch{epoch}_{suffix}_train_features2.pkl\", \"rb\") as f:\n",
    "            train_feat = pickle.load(f)\n",
    "        with open(root/\"checkpoints\"/f\"{name}_{suffix}\"/f\"epoch{epoch}_{suffix}_test_features2.pkl\", \"rb\") as f:\n",
    "            test_feat = pickle.load(f)"
   ],
   "outputs": [],
   "metadata": {}
  },
  {
   "cell_type": "code",
   "execution_count": 39,
   "source": [
    "for object_id in train_df[\"object_id\"]:\n",
    "    print(aug(train_feat[object_id]))\n",
    "    break"
   ],
   "outputs": [
    {
     "output_type": "stream",
     "name": "stdout",
     "text": [
      "[-0.07145286  0.14069785  0.23852168  0.15915895 -0.25567922 -0.30514467\n",
      "  0.21666294  0.72927386 -0.34836692  0.07413923  0.27502048 -0.02406485\n",
      " -0.01548526  0.19129294  0.16175027  0.0129391   0.44298095  0.03110772\n",
      " -0.2619664  -0.6317513 ]\n"
     ]
    }
   ],
   "metadata": {}
  }
 ],
 "metadata": {
  "orig_nbformat": 4,
  "language_info": {
   "name": "python",
   "version": "3.8.10",
   "mimetype": "text/x-python",
   "codemirror_mode": {
    "name": "ipython",
    "version": 3
   },
   "pygments_lexer": "ipython3",
   "nbconvert_exporter": "python",
   "file_extension": ".py"
  },
  "kernelspec": {
   "name": "python3",
   "display_name": "Python 3.8.10 64-bit ('atmaCup11': conda)"
  },
  "interpreter": {
   "hash": "a36cd820be0eaca38c52ebedd48039812cfccf3c99d2a07a6b762e4f499bf7df"
  }
 },
 "nbformat": 4,
 "nbformat_minor": 2
}