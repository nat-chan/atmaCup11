{
 "cells": [
  {
   "cell_type": "code",
   "execution_count": 59,
   "source": [
    "from typing import *\n",
    "from pathlib import Path\n",
    "import numpy as np\n",
    "import pandas as pd\n",
    "import lightgbm as lgb\n",
    "import pickle\n",
    "from time import time\n",
    "from functools import lru_cache\n",
    "\n",
    "root = Path(\"/data/natsuki/dataset_atmaCup11\")\n",
    "\"atma11sortingdate_j4nofreeze\"\n",
    "names = [\"atma11simple_j4e5nofreeze\", \"atma11sortingdate_j4e5nofreeze\", \"atma11onehot_j4e5nofreeze\", \"atma11materialstechniques_j4e5nofreeze\"]\n",
    "epoch = 10\n",
    "\n",
    "def aug(arr: List[np.ndarray]) -> np.ndarray:\n",
    "    return np.mean(arr, axis=0).flatten()\n",
    "def enc(t: int):\n",
    "    return t\n",
    "@lru_cache(maxsize=None)\n",
    "def load_df(path: Path) -> pd.DataFrame:\n",
    "    return pd.read_csv(path).set_index(\"object_id\", drop=False)\n",
    "@lru_cache(maxsize=None)\n",
    "def load_dict(path: Path) -> Dict[str, List[np.ndarray]]:\n",
    "    with open(path, \"rb\") as f:\n",
    "        _dict = pickle.load(f)\n",
    "        return _dict"
   ],
   "outputs": [],
   "metadata": {}
  },
  {
   "cell_type": "code",
   "execution_count": 62,
   "source": [
    "for suffix in [\"3fold0\", \"3fold1\", \"3fold2\"]:\n",
    "    cv_list = list()\n",
    "    for name in names:\n",
    "        train_df = load_df(root/f\"{suffix}_train.csv\")\n",
    "        test_df = load_df(root/f\"{suffix}_test.csv\")\n",
    "        train_dict = load_dict(root/\"checkpoints\"/f\"{name}_{suffix}\"/f\"epoch{epoch}_{suffix}_train_features2.pkl\")\n",
    "        test_dict = load_dict(root/\"checkpoints\"/f\"{name}_{suffix}\"/f\"epoch{epoch}_{suffix}_test_features2.pkl\")\n",
    "        train_features = np.array([aug(train_dict[object_id]) for object_id in train_df[\"object_id\"]])\n",
    "        train_target = np.array([enc(train_df.loc[object_id][\"target\"]) for object_id in train_df[\"object_id\"]]).reshape(-1, 1)"
   ],
   "outputs": [],
   "metadata": {}
  },
  {
   "cell_type": "code",
   "execution_count": 48,
   "source": [
    "train_features.shape"
   ],
   "outputs": [
    {
     "output_type": "execute_result",
     "data": {
      "text/plain": [
       "(2624, 20)"
      ]
     },
     "metadata": {},
     "execution_count": 48
    }
   ],
   "metadata": {}
  },
  {
   "cell_type": "code",
   "execution_count": 63,
   "source": [
    "train_target.shape"
   ],
   "outputs": [
    {
     "output_type": "execute_result",
     "data": {
      "text/plain": [
       "(2624, 1)"
      ]
     },
     "metadata": {},
     "execution_count": 63
    }
   ],
   "metadata": {}
  },
  {
   "cell_type": "code",
   "execution_count": 52,
   "source": [],
   "outputs": [
    {
     "output_type": "execute_result",
     "data": {
      "text/plain": [
       "{PosixPath('/data/natsuki/dataset_atmaCup11')}"
      ]
     },
     "metadata": {},
     "execution_count": 52
    }
   ],
   "metadata": {}
  },
  {
   "cell_type": "code",
   "execution_count": null,
   "source": [],
   "outputs": [],
   "metadata": {}
  }
 ],
 "metadata": {
  "orig_nbformat": 4,
  "language_info": {
   "name": "python",
   "version": "3.8.10",
   "mimetype": "text/x-python",
   "codemirror_mode": {
    "name": "ipython",
    "version": 3
   },
   "pygments_lexer": "ipython3",
   "nbconvert_exporter": "python",
   "file_extension": ".py"
  },
  "kernelspec": {
   "name": "python3",
   "display_name": "Python 3.8.10 64-bit ('atmaCup11': conda)"
  },
  "interpreter": {
   "hash": "a36cd820be0eaca38c52ebedd48039812cfccf3c99d2a07a6b762e4f499bf7df"
  }
 },
 "nbformat": 4,
 "nbformat_minor": 2
}