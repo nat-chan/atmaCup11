{
 "cells": [
  {
   "cell_type": "code",
   "execution_count": 46,
   "source": [
    "from typing import *\n",
    "from pathlib import Path\n",
    "import numpy as np\n",
    "import pandas as pd\n",
    "import lightgbm as lgb\n",
    "import pickle\n",
    "from time import time\n",
    "from functools import lru_cache\n",
    "from sklearn.metrics import mean_squared_error as mse\n",
    "\n",
    "root = Path(\"/data/natsuki/dataset_atmaCup11\")\n",
    "\"atma11sortingdate_j4nofreeze\"\n",
    "names = [\"atma11simple_j4e5nofreeze\", \"atma11sortingdate_j4e5nofreeze\", \"atma11onehot_j4e5nofreeze\", \"atma11materialstechniques_j4e5nofreeze\"]\n",
    "epoch = 10\n",
    "\n",
    "# https://github.com/microsoft/LightGBM/blob/master/examples/python-guide/simple_example.py\n",
    "params = {\n",
    "    'boosting_type': 'gbdt',\n",
    "    'objective': 'regression',\n",
    "    'metric': 'l2',\n",
    "    'num_leaves': 31,\n",
    "    'learning_rate': 0.05,\n",
    "    'feature_fraction': 0.9, #学習の高速化と過学習の抑制に使用される．データの特徴量のfeature_fraction * 100 % だけ使用する．\n",
    "    'bagging_fraction': 0.8,\n",
    "    'bagging_freq': 5,\n",
    "    'verbose': 0\n",
    "}\n",
    "\n",
    "d_params = {\n",
    "    \"objective\": \"binary\",\n",
    "    \"metric\": \"auc\",\n",
    "    \"seed\": 0,\n",
    "    \"verbose\": -1,\n",
    "    \"learning_rate\": 0.1,\n",
    "    \"num_leaves\": 100,\n",
    "    \"min_data_in_leaf\": 1000,\n",
    "}\n",
    "\n",
    "_params = {\n",
    "    'boosting_type': 'gbdt',\n",
    "    'objective': 'regression',\n",
    "    'metric': 'l2',\n",
    "    \"seed\": 0,\n",
    "    \"verbose\": -1,\n",
    "    \"learning_rate\": 0.1,\n",
    "    \"num_leaves\": 100,\n",
    "    \"min_data_in_leaf\": 1000,\n",
    "}\n",
    "\n",
    "\n",
    "def aug(arr: List[np.ndarray]) -> np.ndarray:\n",
    "    return np.mean(arr, axis=0).flatten()\n",
    "def enc(t: int):\n",
    "    return t\n",
    "@lru_cache(maxsize=None)\n",
    "def load_df(path: Path) -> pd.DataFrame:\n",
    "    return pd.read_csv(path).set_index(\"object_id\", drop=False)\n",
    "@lru_cache(maxsize=None)\n",
    "def load_dict(path: Path) -> Dict[str, List[np.ndarray]]:\n",
    "    with open(path, \"rb\") as f:\n",
    "        _dict = pickle.load(f)\n",
    "        return _dict"
   ],
   "outputs": [],
   "metadata": {}
  },
  {
   "cell_type": "code",
   "execution_count": 49,
   "source": [
    "scores = list()\n",
    "best_params = list()\n",
    "for suffix in [\"3fold0\", \"3fold1\", \"3fold2\", \"all\"]:\n",
    "    if suffix != \"all\":\n",
    "        cv_list = list()\n",
    "    train_df = load_df(root/f\"{suffix}_train.csv\")\n",
    "    test_df = load_df(root/f\"{suffix}_test.csv\")\n",
    "    train_target = np.array([enc(train_df.loc[object_id][\"target\"]) for object_id in train_df[\"object_id\"]]).reshape(-1, 1)\n",
    "    if suffix != \"all\":\n",
    "        test_target = np.array([enc(test_df.loc[object_id][\"target\"]) for object_id in test_df[\"object_id\"]]).reshape(-1, 1)\n",
    "        test_features = list()\n",
    "    train_features = list()\n",
    "    for name in names:\n",
    "        train_dict = load_dict(root/\"checkpoints\"/f\"{name}_{suffix}\"/f\"epoch{epoch}_{suffix}_train_features2.pkl\")\n",
    "        test_dict = load_dict(root/\"checkpoints\"/f\"{name}_{suffix}\"/f\"epoch{epoch}_{suffix}_test_features2.pkl\")\n",
    "        train_features.append( np.array([aug(train_dict[object_id]) for object_id in train_df[\"object_id\"]]) )\n",
    "        if suffix != \"all\":\n",
    "            test_features.append( np.array([aug(test_dict[object_id]) for object_id in test_df[\"object_id\"]]))\n",
    "    train_features = np.concatenate(train_features, axis=1)\n",
    "    train_dataset = lgb.Dataset(train_features, label=train_target)\n",
    "    if suffix != \"all\":\n",
    "        test_features = np.concatenate(test_features, axis=1)\n",
    "        test_dataset = lgb.Dataset(test_features, label=test_target)\n",
    "        model = lgb.train(\n",
    "            params,\n",
    "            train_set=train_dataset,\n",
    "            valid_sets=(train_dataset, test_dataset),\n",
    "            num_boost_round=10000,\n",
    "            early_stopping_rounds=10,\n",
    "            verbose_eval=10\n",
    "        )\n",
    "        pred = model.predict(test_features)\n",
    "        scores.append( mse(test_target, pred)**.5 )\n",
    "    if suffix == \"all\":\n",
    "        score = str(np.mean(scores))[:6]\n",
    "        print(f\"\\x1b[31;1m{score=}\\x1b[m\")"
   ],
   "outputs": [
    {
     "output_type": "stream",
     "name": "stderr",
     "text": [
      "/home/natsuki/miniconda3/envs/atmaCup11/lib/python3.8/site-packages/lightgbm/basic.py:154: UserWarning: Converting column-vector to 1d array\n",
      "  _log_warning('Converting column-vector to 1d array')\n"
     ]
    },
    {
     "output_type": "stream",
     "name": "stdout",
     "text": [
      "[LightGBM] [Warning] Auto-choosing col-wise multi-threading, the overhead of testing was 0.003110 seconds.\n",
      "You can set `force_col_wise=true` to remove the overhead.\n",
      "[LightGBM] [Warning] No further splits with positive gain, best gain: -inf\n",
      "Training until validation scores don't improve for 10 rounds\n",
      "[10]\ttraining's l2: 0.364928\tvalid_1's l2: 0.623319\n",
      "[20]\ttraining's l2: 0.153189\tvalid_1's l2: 0.549771\n",
      "[30]\ttraining's l2: 0.074018\tvalid_1's l2: 0.546577\n",
      "Early stopping, best iteration is:\n",
      "[26]\ttraining's l2: 0.0966657\tvalid_1's l2: 0.544543\n"
     ]
    },
    {
     "output_type": "stream",
     "name": "stderr",
     "text": [
      "/home/natsuki/miniconda3/envs/atmaCup11/lib/python3.8/site-packages/lightgbm/basic.py:154: UserWarning: Converting column-vector to 1d array\n",
      "  _log_warning('Converting column-vector to 1d array')\n"
     ]
    },
    {
     "output_type": "stream",
     "name": "stdout",
     "text": [
      "[LightGBM] [Warning] Auto-choosing col-wise multi-threading, the overhead of testing was 0.003381 seconds.\n",
      "You can set `force_col_wise=true` to remove the overhead.\n",
      "Training until validation scores don't improve for 10 rounds\n",
      "[10]\ttraining's l2: 0.364437\tvalid_1's l2: 0.627013\n",
      "[20]\ttraining's l2: 0.153969\tvalid_1's l2: 0.55545\n",
      "[30]\ttraining's l2: 0.0762862\tvalid_1's l2: 0.548834\n",
      "Early stopping, best iteration is:\n",
      "[28]\ttraining's l2: 0.0864575\tvalid_1's l2: 0.547576\n"
     ]
    },
    {
     "output_type": "stream",
     "name": "stderr",
     "text": [
      "/home/natsuki/miniconda3/envs/atmaCup11/lib/python3.8/site-packages/lightgbm/basic.py:154: UserWarning: Converting column-vector to 1d array\n",
      "  _log_warning('Converting column-vector to 1d array')\n"
     ]
    },
    {
     "output_type": "stream",
     "name": "stdout",
     "text": [
      "[LightGBM] [Warning] Auto-choosing col-wise multi-threading, the overhead of testing was 0.002582 seconds.\n",
      "You can set `force_col_wise=true` to remove the overhead.\n",
      "Training until validation scores don't improve for 10 rounds\n",
      "[10]\ttraining's l2: 0.365616\tvalid_1's l2: 0.619597\n",
      "[20]\ttraining's l2: 0.152112\tvalid_1's l2: 0.539377\n",
      "[30]\ttraining's l2: 0.0727451\tvalid_1's l2: 0.536046\n",
      "Early stopping, best iteration is:\n",
      "[25]\ttraining's l2: 0.102783\tvalid_1's l2: 0.532702\n",
      "\u001b[31;1mscore='0.7359'\u001b[m\n"
     ]
    }
   ],
   "metadata": {}
  },
  {
   "cell_type": "code",
   "execution_count": 23,
   "source": [],
   "outputs": [
    {
     "output_type": "stream",
     "name": "stdout",
     "text": [
      "Training until validation scores don't improve for 10 rounds\n",
      "[10]\ttraining's l2: 0.366158\tvalid_1's l2: 0.647864\n",
      "[20]\ttraining's l2: 0.256479\tvalid_1's l2: 0.640012\n",
      "Early stopping, best iteration is:\n",
      "[15]\ttraining's l2: 0.293257\tvalid_1's l2: 0.636124\n"
     ]
    },
    {
     "output_type": "stream",
     "name": "stderr",
     "text": [
      "/home/natsuki/miniconda3/envs/atmaCup11/lib/python3.8/site-packages/lightgbm/basic.py:154: UserWarning: Converting column-vector to 1d array\n",
      "  _log_warning('Converting column-vector to 1d array')\n"
     ]
    }
   ],
   "metadata": {}
  },
  {
   "cell_type": "code",
   "execution_count": 48,
   "source": [
    "model.best_iteration"
   ],
   "outputs": [
    {
     "output_type": "execute_result",
     "data": {
      "text/plain": [
       "25"
      ]
     },
     "metadata": {},
     "execution_count": 48
    }
   ],
   "metadata": {}
  },
  {
   "cell_type": "code",
   "execution_count": 26,
   "source": [
    "y_true = np.array([3, -0.5, 2, 7])\n",
    "y_pred = np.array([2.5, 0.0, 2, 8])\n",
    "sum((y_true-y_pred)**2)/4"
   ],
   "outputs": [
    {
     "output_type": "execute_result",
     "data": {
      "text/plain": [
       "0.375"
      ]
     },
     "metadata": {},
     "execution_count": 26
    }
   ],
   "metadata": {}
  },
  {
   "cell_type": "code",
   "execution_count": 27,
   "source": [],
   "outputs": [
    {
     "output_type": "execute_result",
     "data": {
      "text/plain": [
       "2.23606797749979"
      ]
     },
     "metadata": {},
     "execution_count": 27
    }
   ],
   "metadata": {}
  },
  {
   "cell_type": "code",
   "execution_count": null,
   "source": [],
   "outputs": [],
   "metadata": {}
  }
 ],
 "metadata": {
  "orig_nbformat": 4,
  "language_info": {
   "name": "python",
   "version": "3.8.10",
   "mimetype": "text/x-python",
   "codemirror_mode": {
    "name": "ipython",
    "version": 3
   },
   "pygments_lexer": "ipython3",
   "nbconvert_exporter": "python",
   "file_extension": ".py"
  },
  "kernelspec": {
   "name": "python3",
   "display_name": "Python 3.8.10 64-bit ('atmaCup11': conda)"
  },
  "interpreter": {
   "hash": "a36cd820be0eaca38c52ebedd48039812cfccf3c99d2a07a6b762e4f499bf7df"
  }
 },
 "nbformat": 4,
 "nbformat_minor": 2
}