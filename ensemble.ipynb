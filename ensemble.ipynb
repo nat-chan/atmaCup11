{
 "cells": [
  {
   "cell_type": "code",
   "execution_count": 28,
   "source": [
    "from typing import *\n",
    "from pathlib import Path\n",
    "import numpy as np\n",
    "import pandas as pd\n",
    "import lightgbm as lgb\n",
    "import pickle\n",
    "from time import time\n",
    "from functools import lru_cache\n",
    "from sklearn.metrics import mean_squared_error as mse\n",
    "import logging\n",
    "logger = logging.getLogger()\n",
    "logger.disabled = True\n",
    "\n",
    "\n",
    "root = Path(\"/data/natsuki/dataset_atmaCup11\")\n",
    "\n",
    "names = [\"atma11simple_j4e5nofreeze\", \"atma11sortingdate_j4e5nofreeze\", \"atma11onehot_j4e5nofreeze\", \"atma11materialstechniques_j4e5nofreeze\"]\n",
    "epoch = 10\n",
    "\n",
    "# https://github.com/microsoft/LightGBM/blob/master/examples/python-guide/simple_example.py\n",
    "params = {\n",
    "    'boosting_type': 'gbdt',\n",
    "    'objective': 'regression',\n",
    "    'metric': 'l2',\n",
    "    'num_leaves': 31,\n",
    "    'learning_rate': 0.05,\n",
    "    'feature_fraction': 0.9, #学習の高速化と過学習の抑制に使用される．データの特徴量のfeature_fraction * 100 % だけ使用する．\n",
    "    'bagging_fraction': 0.8,\n",
    "    'bagging_freq': 5,\n",
    "    'verbose': 0,\n",
    "    'force_col_wise': True,\n",
    "    \"verbose\": -1, # suppress warning\n",
    "}\n",
    "\n",
    "d_params = {\n",
    "    \"objective\": \"binary\",\n",
    "    \"metric\": \"auc\",\n",
    "    \"seed\": 0,\n",
    "    \"verbose\": -1,\n",
    "    \"learning_rate\": 0.1,\n",
    "    \"num_leaves\": 100,\n",
    "    \"min_data_in_leaf\": 1000,\n",
    "}\n",
    "\n",
    "_params = {\n",
    "    'boosting_type': 'gbdt',\n",
    "    'objective': 'regression',\n",
    "    'metric': 'l2',\n",
    "    \"seed\": 0,\n",
    "    \"verbose\": -1,\n",
    "    \"learning_rate\": 0.1,\n",
    "    \"num_leaves\": 100,\n",
    "    \"min_data_in_leaf\": 1000,\n",
    "}\n",
    "\n",
    "\n",
    "def aug(\n",
    "    arr: List[np.ndarray],\n",
    "    funcs=\"mean\",\n",
    "    ) -> np.ndarray:\n",
    "    seq = list()\n",
    "    if funcs[:4] == \"all,\":\n",
    "        seq += [np.array(arr).flatten()]\n",
    "        funcs = funcs[4:]\n",
    "    seq += [ getattr(np, func)(arr, axis=0).flatten() for func in funcs.split(\",\") ]\n",
    "    return np.concatenate(seq)\n",
    "def enc(t: int):\n",
    "    return t\n",
    "@lru_cache(maxsize=None)\n",
    "def load_df(path: Path) -> pd.DataFrame:\n",
    "    return pd.read_csv(path).set_index(\"object_id\", drop=False)\n",
    "@lru_cache(maxsize=None)\n",
    "def load_dict(path: Path) -> Dict[str, List[np.ndarray]]:\n",
    "    with open(path, \"rb\") as f:\n",
    "        _dict = pickle.load(f)\n",
    "        return _dict\n",
    "def post_process(pred: np.ndarray) -> np.ndarray:\n",
    "    return pred.clip(0, 3)\n",
    "    "
   ],
   "outputs": [],
   "metadata": {}
  },
  {
   "cell_type": "code",
   "execution_count": 33,
   "source": [
    "process = \"clip\"\n",
    "funcs = \"mean,max,min,var\"\n",
    "coef = 1.5\n",
    "\n",
    "\n",
    "scores = list()\n",
    "stops = list()\n",
    "for suffix in [\"3fold0\", \"3fold1\", \"3fold2\", \"all\"]:\n",
    "    train_df = load_df(root/f\"{suffix}_train.csv\")\n",
    "    test_df = load_df(root/f\"{suffix}_test.csv\")\n",
    "    train_target = np.array([enc(train_df.loc[object_id][\"target\"]) for object_id in train_df[\"object_id\"]]).reshape(-1, 1)\n",
    "    if suffix != \"all\":\n",
    "        test_target = np.array([enc(test_df.loc[object_id][\"target\"]) for object_id in test_df[\"object_id\"]]).reshape(-1, 1)\n",
    "    test_features = list()\n",
    "    train_features = list()\n",
    "    for name in names:\n",
    "        train_dict = load_dict(root/\"checkpoints\"/f\"{name}_{suffix}\"/f\"epoch{epoch}_{suffix}_train_features2.pkl\")\n",
    "        test_dict = load_dict(root/\"checkpoints\"/f\"{name}_{suffix}\"/f\"epoch{epoch}_{suffix}_test_features2.pkl\")\n",
    "        train_features.append( np.array([aug(train_dict[object_id], funcs) for object_id in train_df[\"object_id\"]]) )\n",
    "        test_features.append( np.array([aug(test_dict[object_id], funcs) for object_id in test_df[\"object_id\"]]))\n",
    "    train_features = np.concatenate(train_features, axis=1)\n",
    "    test_features = np.concatenate(test_features, axis=1)\n",
    "    train_dataset = lgb.Dataset(train_features, label=train_target)\n",
    "    if suffix != \"all\":\n",
    "        print(f\" Start CV {suffix} \".center(50, \"#\"))\n",
    "        test_dataset = lgb.Dataset(test_features, label=test_target)\n",
    "        model = lgb.train(\n",
    "            params,\n",
    "            train_set=train_dataset,\n",
    "            valid_sets=(train_dataset, test_dataset),\n",
    "            num_boost_round=10000,\n",
    "            early_stopping_rounds=10,\n",
    "            verbose_eval=1\n",
    "        )\n",
    "        pred = model.predict(test_features)\n",
    "        pred = post_process(pred)\n",
    "        scores.append( mse(test_target, pred)**.5 )\n",
    "        stops.append( model.best_iteration )\n",
    "        print(f\" Finished CV {suffix} {model.best_iteration=} \".center(50, \"#\"))\n",
    "    if suffix == \"all\":\n",
    "        print(f\" Start Pred {suffix} \".center(50, \"#\"))\n",
    "        score = str(np.mean(scores))[:6]\n",
    "        stop = int(np.mean(stops)*coef)\n",
    "        model = lgb.train(\n",
    "            params,\n",
    "            train_set=train_dataset,\n",
    "            valid_sets=(train_dataset,),\n",
    "            num_boost_round=stop,\n",
    "            early_stopping_rounds=None,\n",
    "            verbose_eval=1\n",
    "        )\n",
    "        pred = model.predict(test_features)\n",
    "        pred = post_process(pred)\n",
    "        pred_df = pd.DataFrame(pred, columns=[\"target\"])\n",
    "        fn = f\"{str(int(time()))[-5:]}_{score}\".replace(\".\", \"\")+\".csv\"\n",
    "        pred_df.to_csv(f\"./submissions/{fn}\", index=False)\n",
    "        print(f\" Finished {score=} {fn} \".center(50, \"#\"))"
   ],
   "outputs": [
    {
     "output_type": "stream",
     "name": "stdout",
     "text": [
      "################ Start CV 3fold0 #################\n",
      "[1]\ttraining's l2: 0.850057\tvalid_1's l2: 0.885158\n",
      "Training until validation scores don't improve for 10 rounds\n",
      "[2]\ttraining's l2: 0.771922\tvalid_1's l2: 0.839391\n",
      "[3]\ttraining's l2: 0.700955\tvalid_1's l2: 0.798599\n",
      "[4]\ttraining's l2: 0.636757\tvalid_1's l2: 0.760997\n",
      "[5]\ttraining's l2: 0.578775\tvalid_1's l2: 0.72855\n",
      "[6]\ttraining's l2: 0.526446\tvalid_1's l2: 0.700777\n",
      "[7]\ttraining's l2: 0.479038\tvalid_1's l2: 0.674628\n",
      "[8]\ttraining's l2: 0.436536\tvalid_1's l2: 0.652802\n",
      "[9]\ttraining's l2: 0.397939\tvalid_1's l2: 0.634596\n",
      "[10]\ttraining's l2: 0.362547\tvalid_1's l2: 0.617081\n",
      "[11]\ttraining's l2: 0.330677\tvalid_1's l2: 0.603331\n",
      "[12]\ttraining's l2: 0.301904\tvalid_1's l2: 0.59151\n",
      "[13]\ttraining's l2: 0.275889\tvalid_1's l2: 0.581339\n",
      "[14]\ttraining's l2: 0.252611\tvalid_1's l2: 0.571907\n",
      "[15]\ttraining's l2: 0.231174\tvalid_1's l2: 0.56449\n",
      "[16]\ttraining's l2: 0.211828\tvalid_1's l2: 0.558924\n",
      "[17]\ttraining's l2: 0.194282\tvalid_1's l2: 0.55413\n",
      "[18]\ttraining's l2: 0.178426\tvalid_1's l2: 0.550628\n",
      "[19]\ttraining's l2: 0.16432\tvalid_1's l2: 0.548157\n",
      "[20]\ttraining's l2: 0.151169\tvalid_1's l2: 0.545569\n",
      "[21]\ttraining's l2: 0.139403\tvalid_1's l2: 0.543897\n",
      "[22]\ttraining's l2: 0.12865\tvalid_1's l2: 0.542176\n",
      "[23]\ttraining's l2: 0.118984\tvalid_1's l2: 0.540349\n",
      "[24]\ttraining's l2: 0.109952\tvalid_1's l2: 0.539594\n",
      "[25]\ttraining's l2: 0.102105\tvalid_1's l2: 0.538771\n",
      "[26]\ttraining's l2: 0.0947894\tvalid_1's l2: 0.539154\n",
      "[27]\ttraining's l2: 0.0882224\tvalid_1's l2: 0.539772\n",
      "[28]\ttraining's l2: 0.0820995\tvalid_1's l2: 0.540566\n",
      "[29]\ttraining's l2: 0.0764788\tvalid_1's l2: 0.541097\n",
      "[30]\ttraining's l2: 0.0715272\tvalid_1's l2: 0.542783\n",
      "[31]\ttraining's l2: 0.0669768\tvalid_1's l2: 0.544031\n",
      "[32]\ttraining's l2: 0.0626402\tvalid_1's l2: 0.545409\n",
      "[33]\ttraining's l2: 0.0590215\tvalid_1's l2: 0.546749\n",
      "[34]\ttraining's l2: 0.0557834\tvalid_1's l2: 0.548252\n",
      "[35]\ttraining's l2: 0.0525201\tvalid_1's l2: 0.549487\n",
      "Early stopping, best iteration is:\n",
      "[25]\ttraining's l2: 0.102105\tvalid_1's l2: 0.538771\n",
      "### Finished CV 3fold0 model.best_iteration=25 ###\n",
      "################ Start CV 3fold1 #################\n",
      "[1]\ttraining's l2: 0.850593\tvalid_1's l2: 0.885049\n",
      "Training until validation scores don't improve for 10 rounds\n",
      "[2]\ttraining's l2: 0.771421\tvalid_1's l2: 0.837205\n",
      "[3]\ttraining's l2: 0.699792\tvalid_1's l2: 0.795632\n",
      "[4]\ttraining's l2: 0.635732\tvalid_1's l2: 0.757923\n",
      "[5]\ttraining's l2: 0.577427\tvalid_1's l2: 0.725729\n",
      "[6]\ttraining's l2: 0.525074\tvalid_1's l2: 0.69758\n",
      "[7]\ttraining's l2: 0.478277\tvalid_1's l2: 0.67313\n",
      "[8]\ttraining's l2: 0.435775\tvalid_1's l2: 0.65203\n",
      "[9]\ttraining's l2: 0.39705\tvalid_1's l2: 0.633313\n",
      "[10]\ttraining's l2: 0.361867\tvalid_1's l2: 0.616205\n",
      "[11]\ttraining's l2: 0.329907\tvalid_1's l2: 0.602544\n",
      "[12]\ttraining's l2: 0.301118\tvalid_1's l2: 0.591129\n",
      "[13]\ttraining's l2: 0.274703\tvalid_1's l2: 0.581125\n",
      "[14]\ttraining's l2: 0.251108\tvalid_1's l2: 0.573\n",
      "[15]\ttraining's l2: 0.229837\tvalid_1's l2: 0.566258\n",
      "[16]\ttraining's l2: 0.210798\tvalid_1's l2: 0.558876\n",
      "[17]\ttraining's l2: 0.193587\tvalid_1's l2: 0.552582\n",
      "[18]\ttraining's l2: 0.178109\tvalid_1's l2: 0.547249\n",
      "[19]\ttraining's l2: 0.163905\tvalid_1's l2: 0.543003\n",
      "[20]\ttraining's l2: 0.151\tvalid_1's l2: 0.539831\n",
      "[21]\ttraining's l2: 0.139043\tvalid_1's l2: 0.537649\n",
      "[22]\ttraining's l2: 0.128433\tvalid_1's l2: 0.536823\n",
      "[23]\ttraining's l2: 0.118731\tvalid_1's l2: 0.535788\n",
      "[24]\ttraining's l2: 0.110061\tvalid_1's l2: 0.535169\n",
      "[25]\ttraining's l2: 0.102394\tvalid_1's l2: 0.53552\n",
      "[26]\ttraining's l2: 0.0949707\tvalid_1's l2: 0.535798\n",
      "[27]\ttraining's l2: 0.0882243\tvalid_1's l2: 0.536219\n",
      "[28]\ttraining's l2: 0.0821811\tvalid_1's l2: 0.535909\n",
      "[29]\ttraining's l2: 0.0765822\tvalid_1's l2: 0.536248\n",
      "[30]\ttraining's l2: 0.0716799\tvalid_1's l2: 0.536905\n",
      "[31]\ttraining's l2: 0.0672053\tvalid_1's l2: 0.537684\n",
      "[32]\ttraining's l2: 0.0629344\tvalid_1's l2: 0.538261\n",
      "[33]\ttraining's l2: 0.0589928\tvalid_1's l2: 0.539125\n",
      "[34]\ttraining's l2: 0.0556496\tvalid_1's l2: 0.539884\n",
      "Early stopping, best iteration is:\n",
      "[24]\ttraining's l2: 0.110061\tvalid_1's l2: 0.535169\n",
      "### Finished CV 3fold1 model.best_iteration=24 ###\n",
      "################ Start CV 3fold2 #################\n",
      "[1]\ttraining's l2: 0.850583\tvalid_1's l2: 0.888411\n",
      "Training until validation scores don't improve for 10 rounds\n",
      "[2]\ttraining's l2: 0.771875\tvalid_1's l2: 0.840113\n",
      "[3]\ttraining's l2: 0.700435\tvalid_1's l2: 0.798243\n",
      "[4]\ttraining's l2: 0.636349\tvalid_1's l2: 0.763567\n",
      "[5]\ttraining's l2: 0.578566\tvalid_1's l2: 0.730382\n",
      "[6]\ttraining's l2: 0.526261\tvalid_1's l2: 0.701839\n",
      "[7]\ttraining's l2: 0.47907\tvalid_1's l2: 0.678046\n",
      "[8]\ttraining's l2: 0.435812\tvalid_1's l2: 0.654298\n",
      "[9]\ttraining's l2: 0.397259\tvalid_1's l2: 0.635239\n",
      "[10]\ttraining's l2: 0.362578\tvalid_1's l2: 0.618975\n",
      "[11]\ttraining's l2: 0.330471\tvalid_1's l2: 0.603973\n",
      "[12]\ttraining's l2: 0.301277\tvalid_1's l2: 0.590855\n",
      "[13]\ttraining's l2: 0.274994\tvalid_1's l2: 0.579676\n",
      "[14]\ttraining's l2: 0.251265\tvalid_1's l2: 0.57052\n",
      "[15]\ttraining's l2: 0.229395\tvalid_1's l2: 0.563137\n",
      "[16]\ttraining's l2: 0.209963\tvalid_1's l2: 0.556257\n",
      "[17]\ttraining's l2: 0.19208\tvalid_1's l2: 0.550314\n",
      "[18]\ttraining's l2: 0.176464\tvalid_1's l2: 0.545926\n",
      "[19]\ttraining's l2: 0.162374\tvalid_1's l2: 0.542457\n",
      "[20]\ttraining's l2: 0.149449\tvalid_1's l2: 0.538968\n",
      "[21]\ttraining's l2: 0.137584\tvalid_1's l2: 0.536418\n",
      "[22]\ttraining's l2: 0.12656\tvalid_1's l2: 0.534773\n",
      "[23]\ttraining's l2: 0.116788\tvalid_1's l2: 0.53412\n",
      "[24]\ttraining's l2: 0.10803\tvalid_1's l2: 0.533777\n",
      "[25]\ttraining's l2: 0.100096\tvalid_1's l2: 0.534095\n",
      "[26]\ttraining's l2: 0.0929469\tvalid_1's l2: 0.534962\n",
      "[27]\ttraining's l2: 0.0864021\tvalid_1's l2: 0.535741\n",
      "[28]\ttraining's l2: 0.0804638\tvalid_1's l2: 0.536649\n",
      "[29]\ttraining's l2: 0.0750532\tvalid_1's l2: 0.537744\n",
      "[30]\ttraining's l2: 0.0700017\tvalid_1's l2: 0.539217\n",
      "[31]\ttraining's l2: 0.0653623\tvalid_1's l2: 0.539304\n",
      "[32]\ttraining's l2: 0.0611534\tvalid_1's l2: 0.540327\n",
      "[33]\ttraining's l2: 0.0572783\tvalid_1's l2: 0.540997\n",
      "[34]\ttraining's l2: 0.0537301\tvalid_1's l2: 0.541869\n",
      "Early stopping, best iteration is:\n",
      "[24]\ttraining's l2: 0.10803\tvalid_1's l2: 0.533777\n",
      "### Finished CV 3fold2 model.best_iteration=24 ###\n",
      "################# Start Pred all #################\n",
      "[1]\ttraining's l2: 0.851801\n",
      "[2]\ttraining's l2: 0.773542\n",
      "[3]\ttraining's l2: 0.702798\n",
      "[4]\ttraining's l2: 0.639338\n",
      "[5]\ttraining's l2: 0.581477\n",
      "[6]\ttraining's l2: 0.529758\n",
      "[7]\ttraining's l2: 0.482367\n",
      "[8]\ttraining's l2: 0.439654\n",
      "[9]\ttraining's l2: 0.401433\n",
      "[10]\ttraining's l2: 0.366892\n",
      "[11]\ttraining's l2: 0.335359\n",
      "[12]\ttraining's l2: 0.306716\n",
      "[13]\ttraining's l2: 0.280769\n",
      "[14]\ttraining's l2: 0.257455\n",
      "[15]\ttraining's l2: 0.236398\n",
      "[16]\ttraining's l2: 0.217186\n",
      "[17]\ttraining's l2: 0.199783\n",
      "[18]\ttraining's l2: 0.184091\n",
      "[19]\ttraining's l2: 0.169862\n",
      "[20]\ttraining's l2: 0.156829\n",
      "[21]\ttraining's l2: 0.145177\n",
      "[22]\ttraining's l2: 0.134489\n",
      "[23]\ttraining's l2: 0.125054\n",
      "[24]\ttraining's l2: 0.116177\n",
      "[25]\ttraining's l2: 0.10833\n",
      "[26]\ttraining's l2: 0.101133\n",
      "[27]\ttraining's l2: 0.0946184\n",
      "[28]\ttraining's l2: 0.0887388\n",
      "[29]\ttraining's l2: 0.0833751\n",
      "[30]\ttraining's l2: 0.0784211\n",
      "[31]\ttraining's l2: 0.0737288\n",
      "[32]\ttraining's l2: 0.0695393\n",
      "[33]\ttraining's l2: 0.065726\n",
      "[34]\ttraining's l2: 0.0623505\n",
      "[35]\ttraining's l2: 0.0592499\n",
      "[36]\ttraining's l2: 0.0563316\n",
      "#### Finished score='0.7320' 14973_07320.csv #####\n"
     ]
    }
   ],
   "metadata": {}
  },
  {
   "cell_type": "code",
   "execution_count": 100,
   "source": [],
   "outputs": [
    {
     "output_type": "execute_result",
     "data": {
      "text/plain": [
       "25"
      ]
     },
     "metadata": {},
     "execution_count": 100
    }
   ],
   "metadata": {}
  },
  {
   "cell_type": "code",
   "execution_count": 80,
   "source": [
    "str(int(time()))[-5:]"
   ],
   "outputs": [
    {
     "output_type": "execute_result",
     "data": {
      "text/plain": [
       "'07688'"
      ]
     },
     "metadata": {},
     "execution_count": 80
    }
   ],
   "metadata": {}
  },
  {
   "cell_type": "code",
   "execution_count": 73,
   "source": [
    "12*60*60"
   ],
   "outputs": [
    {
     "output_type": "execute_result",
     "data": {
      "text/plain": [
       "43200"
      ]
     },
     "metadata": {},
     "execution_count": 73
    }
   ],
   "metadata": {}
  },
  {
   "cell_type": "code",
   "execution_count": 107,
   "source": [
    "f\" hoge \".center(140, \"#\")"
   ],
   "outputs": [
    {
     "output_type": "execute_result",
     "data": {
      "text/plain": [
       "'################################################################### hoge ###################################################################'"
      ]
     },
     "metadata": {},
     "execution_count": 107
    }
   ],
   "metadata": {}
  },
  {
   "cell_type": "code",
   "execution_count": 24,
   "source": [
    "np.array([np.array([1,2]), np.array([3,4])]).flatten()"
   ],
   "outputs": [
    {
     "output_type": "execute_result",
     "data": {
      "text/plain": [
       "array([1, 2, 3, 4])"
      ]
     },
     "metadata": {},
     "execution_count": 24
    }
   ],
   "metadata": {}
  },
  {
   "cell_type": "code",
   "execution_count": 27,
   "source": [
    "\"all,mean\"[4:]"
   ],
   "outputs": [
    {
     "output_type": "execute_result",
     "data": {
      "text/plain": [
       "'mean'"
      ]
     },
     "metadata": {},
     "execution_count": 27
    }
   ],
   "metadata": {}
  },
  {
   "cell_type": "code",
   "execution_count": 34,
   "source": [
    "import pandas as pd\n",
    "import numpy as np\n",
    "path = \"/data/natsuki/dataset_atmaCup11/checkpoints/atma11simple_j4e5nofreeze_all/epoch5_all_test_features.csv\"\n",
    "df = pd.read_csv(path)\n",
    "sub = df.drop(columns=\"object_id\").rename(columns=lambda x: \"target\").clip(lower=0, upper=3)"
   ],
   "outputs": [],
   "metadata": {}
  },
  {
   "cell_type": "code",
   "execution_count": 35,
   "source": [
    "sub"
   ],
   "outputs": [
    {
     "output_type": "execute_result",
     "data": {
      "text/plain": [
       "        target\n",
       "0     1.476527\n",
       "1     2.046889\n",
       "2     2.239879\n",
       "3     2.203802\n",
       "4     0.263124\n",
       "...        ...\n",
       "5914  2.943335\n",
       "5915  1.080175\n",
       "5916  1.852636\n",
       "5917  1.994541\n",
       "5918  0.269099\n",
       "\n",
       "[5919 rows x 1 columns]"
      ],
      "text/html": [
       "<div>\n",
       "<style scoped>\n",
       "    .dataframe tbody tr th:only-of-type {\n",
       "        vertical-align: middle;\n",
       "    }\n",
       "\n",
       "    .dataframe tbody tr th {\n",
       "        vertical-align: top;\n",
       "    }\n",
       "\n",
       "    .dataframe thead th {\n",
       "        text-align: right;\n",
       "    }\n",
       "</style>\n",
       "<table border=\"1\" class=\"dataframe\">\n",
       "  <thead>\n",
       "    <tr style=\"text-align: right;\">\n",
       "      <th></th>\n",
       "      <th>target</th>\n",
       "    </tr>\n",
       "  </thead>\n",
       "  <tbody>\n",
       "    <tr>\n",
       "      <th>0</th>\n",
       "      <td>1.476527</td>\n",
       "    </tr>\n",
       "    <tr>\n",
       "      <th>1</th>\n",
       "      <td>2.046889</td>\n",
       "    </tr>\n",
       "    <tr>\n",
       "      <th>2</th>\n",
       "      <td>2.239879</td>\n",
       "    </tr>\n",
       "    <tr>\n",
       "      <th>3</th>\n",
       "      <td>2.203802</td>\n",
       "    </tr>\n",
       "    <tr>\n",
       "      <th>4</th>\n",
       "      <td>0.263124</td>\n",
       "    </tr>\n",
       "    <tr>\n",
       "      <th>...</th>\n",
       "      <td>...</td>\n",
       "    </tr>\n",
       "    <tr>\n",
       "      <th>5914</th>\n",
       "      <td>2.943335</td>\n",
       "    </tr>\n",
       "    <tr>\n",
       "      <th>5915</th>\n",
       "      <td>1.080175</td>\n",
       "    </tr>\n",
       "    <tr>\n",
       "      <th>5916</th>\n",
       "      <td>1.852636</td>\n",
       "    </tr>\n",
       "    <tr>\n",
       "      <th>5917</th>\n",
       "      <td>1.994541</td>\n",
       "    </tr>\n",
       "    <tr>\n",
       "      <th>5918</th>\n",
       "      <td>0.269099</td>\n",
       "    </tr>\n",
       "  </tbody>\n",
       "</table>\n",
       "<p>5919 rows × 1 columns</p>\n",
       "</div>"
      ]
     },
     "metadata": {},
     "execution_count": 35
    }
   ],
   "metadata": {}
  },
  {
   "cell_type": "code",
   "execution_count": null,
   "source": [],
   "outputs": [],
   "metadata": {}
  }
 ],
 "metadata": {
  "orig_nbformat": 4,
  "language_info": {
   "name": "python",
   "version": "3.8.10",
   "mimetype": "text/x-python",
   "codemirror_mode": {
    "name": "ipython",
    "version": 3
   },
   "pygments_lexer": "ipython3",
   "nbconvert_exporter": "python",
   "file_extension": ".py"
  },
  "kernelspec": {
   "name": "python3",
   "display_name": "Python 3.8.10 64-bit ('atmaCup11': conda)"
  },
  "interpreter": {
   "hash": "a36cd820be0eaca38c52ebedd48039812cfccf3c99d2a07a6b762e4f499bf7df"
  }
 },
 "nbformat": 4,
 "nbformat_minor": 2
}